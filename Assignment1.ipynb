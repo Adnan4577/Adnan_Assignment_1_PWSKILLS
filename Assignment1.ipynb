{
 "cells": [
  {
   "cell_type": "code",
   "execution_count": 1,
   "id": "9d116064-6a0a-41f9-8025-d6f0840218ad",
   "metadata": {},
   "outputs": [],
   "source": [
    "a=\"Adnan\""
   ]
  },
  {
   "cell_type": "code",
   "execution_count": 2,
   "id": "c6c22215-d37b-4f6d-a4b3-4798dfb6455c",
   "metadata": {},
   "outputs": [
    {
     "data": {
      "text/plain": [
       "'Adnan'"
      ]
     },
     "execution_count": 2,
     "metadata": {},
     "output_type": "execute_result"
    }
   ],
   "source": [
    "a"
   ]
  },
  {
   "cell_type": "code",
   "execution_count": 3,
   "id": "82edaa23-ad43-4ac9-88f9-67e2db504e02",
   "metadata": {},
   "outputs": [],
   "source": [
    "l=[1,2,3,4,5,6,7,\"Adnan\",\"Wadekar\"]"
   ]
  },
  {
   "cell_type": "code",
   "execution_count": 4,
   "id": "89e1e021-cd66-44a2-addc-47bf802a8296",
   "metadata": {},
   "outputs": [
    {
     "data": {
      "text/plain": [
       "[1, 2, 3, 4, 5, 6, 7, 'Adnan', 'Wadekar']"
      ]
     },
     "execution_count": 4,
     "metadata": {},
     "output_type": "execute_result"
    }
   ],
   "source": [
    "l"
   ]
  },
  {
   "cell_type": "code",
   "execution_count": 5,
   "id": "a7c1dde6-9eea-46ce-a356-dd67cc6cc22e",
   "metadata": {},
   "outputs": [],
   "source": [
    "b=10.00"
   ]
  },
  {
   "cell_type": "code",
   "execution_count": 6,
   "id": "0587f23e-919e-4220-bb22-7b818f14d33c",
   "metadata": {},
   "outputs": [
    {
     "data": {
      "text/plain": [
       "10.0"
      ]
     },
     "execution_count": 6,
     "metadata": {},
     "output_type": "execute_result"
    }
   ],
   "source": [
    "b"
   ]
  },
  {
   "cell_type": "code",
   "execution_count": 7,
   "id": "fc61b60c-07e0-4b24-9aea-ae91af26ace8",
   "metadata": {},
   "outputs": [],
   "source": [
    "t=(\"Adnan\",\"Data Analyst\")"
   ]
  },
  {
   "cell_type": "code",
   "execution_count": 8,
   "id": "86b1c5cd-f097-4c20-b91f-54e9450fb1fa",
   "metadata": {},
   "outputs": [
    {
     "data": {
      "text/plain": [
       "tuple"
      ]
     },
     "execution_count": 8,
     "metadata": {},
     "output_type": "execute_result"
    }
   ],
   "source": [
    "type(t)"
   ]
  },
  {
   "cell_type": "code",
   "execution_count": 11,
   "id": "8053d510-c597-4322-983e-7ebd5a32bed1",
   "metadata": {},
   "outputs": [
    {
     "ename": "SyntaxError",
     "evalue": "invalid character '‘' (U+2018) (1646630960.py, line 2)",
     "output_type": "error",
     "traceback": [
      "\u001b[0;36m  Cell \u001b[0;32mIn[11], line 2\u001b[0;36m\u001b[0m\n\u001b[0;31m    (i) var1 = ‘ ‘---String\u001b[0m\n\u001b[0m               ^\u001b[0m\n\u001b[0;31mSyntaxError\u001b[0m\u001b[0;31m:\u001b[0m invalid character '‘' (U+2018)\n"
     ]
    }
   ],
   "source": [
    "#This is Answer for Question 2\n",
    "(i) var1 = ‘ ‘---String\n",
    "(ii) var2 = ‘[ DS , ML , Python]’---String\n",
    "(iii) var3 = [ ‘DS’ , ’ML’ , ‘Python’ ]---List\n",
    "(iv) var4 = 1.---integer\n",
    "#"
   ]
  },
  {
   "cell_type": "code",
   "execution_count": 12,
   "id": "c04e3e0e-32d5-4a31-97de-dcbeaedd6047",
   "metadata": {},
   "outputs": [
    {
     "ename": "SyntaxError",
     "evalue": "invalid syntax (1276870713.py, line 2)",
     "output_type": "error",
     "traceback": [
      "\u001b[0;36m  Cell \u001b[0;32mIn[12], line 2\u001b[0;36m\u001b[0m\n\u001b[0;31m    (i) /--Used to Divide\u001b[0m\n\u001b[0m                ^\u001b[0m\n\u001b[0;31mSyntaxError\u001b[0m\u001b[0;31m:\u001b[0m invalid syntax\n"
     ]
    }
   ],
   "source": [
    "# This is answer for Question \n",
    "(i) /--Used to Divide \n",
    "(ii) %--Used to find Modules \n",
    "(iii) // Floor Divide it will remove the decimal after the dot\n",
    "(iv) ** it is used to perform exponetial operations "
   ]
  },
  {
   "cell_type": "code",
   "execution_count": 13,
   "id": "0de96ec3-65c5-4c4a-a919-2efefa083a4a",
   "metadata": {},
   "outputs": [],
   "source": [
    "l=[1,2,3,5,8,90,\"python\",\"Data Science\",\"20.55\",\"@\"]"
   ]
  },
  {
   "cell_type": "code",
   "execution_count": 14,
   "id": "3df0f425-39e4-4e8b-bbd9-e32442d25391",
   "metadata": {},
   "outputs": [
    {
     "ename": "SyntaxError",
     "evalue": "expected ':' (1390934551.py, line 1)",
     "output_type": "error",
     "traceback": [
      "\u001b[0;36m  Cell \u001b[0;32mIn[14], line 1\u001b[0;36m\u001b[0m\n\u001b[0;31m    for i in l\u001b[0m\n\u001b[0m              ^\u001b[0m\n\u001b[0;31mSyntaxError\u001b[0m\u001b[0;31m:\u001b[0m expected ':'\n"
     ]
    }
   ],
   "source": [
    "for i in l"
   ]
  },
  {
   "cell_type": "code",
   "execution_count": 15,
   "id": "78a04b52-ae0a-4234-8068-478f8ddbcea8",
   "metadata": {},
   "outputs": [
    {
     "name": "stdout",
     "output_type": "stream",
     "text": [
      "<class 'int'>\n",
      "<class 'int'>\n",
      "<class 'int'>\n",
      "<class 'int'>\n",
      "<class 'int'>\n",
      "<class 'int'>\n",
      "<class 'str'>\n",
      "<class 'str'>\n",
      "<class 'str'>\n",
      "<class 'str'>\n"
     ]
    }
   ],
   "source": [
    "for i in l:\n",
    "    print(type(i))"
   ]
  },
  {
   "cell_type": "code",
   "execution_count": 36,
   "id": "f43d4dee-101e-49b4-9466-ef46ff75dcdf",
   "metadata": {},
   "outputs": [],
   "source": [
    "#Using a while loop, verify if the number A is purely divisible by number B and if so then how many\n",
    "#times it can be divisible."
   ]
  },
  {
   "cell_type": "code",
   "execution_count": 38,
   "id": "31e3ca8c-f3fc-46ac-80ad-f51b5a99368d",
   "metadata": {},
   "outputs": [
    {
     "data": {
      "text/plain": [
       "0"
      ]
     },
     "execution_count": 38,
     "metadata": {},
     "output_type": "execute_result"
    }
   ],
   "source": [
    "10%2"
   ]
  },
  {
   "cell_type": "code",
   "execution_count": 25,
   "id": "49adab1a-725b-4741-b3ad-5180fe0fd9f8",
   "metadata": {},
   "outputs": [],
   "source": [
    "a=10\n",
    "b=2\n",
    "while a%b==0:\n",
    "    print(\"\")"
   ]
  },
  {
   "cell_type": "code",
   "execution_count": 16,
   "id": "768b24f0-b1ed-4dce-a26d-b701c2070277",
   "metadata": {},
   "outputs": [],
   "source": [
    "#Create a list containing 25 int type data. Using for loop and if-else condition print if the element is\n",
    "#divisible by 3 or not.\n"
   ]
  },
  {
   "cell_type": "code",
   "execution_count": 17,
   "id": "c7ac0a92-c3fa-4b42-978b-af99fb9f7031",
   "metadata": {},
   "outputs": [
    {
     "data": {
      "text/plain": [
       "range(0, 10)"
      ]
     },
     "execution_count": 17,
     "metadata": {},
     "output_type": "execute_result"
    }
   ],
   "source": [
    "range(10)"
   ]
  },
  {
   "cell_type": "code",
   "execution_count": 18,
   "id": "b8974bdb-5d86-43b8-bf4e-b2d33f84a9e7",
   "metadata": {},
   "outputs": [
    {
     "data": {
      "text/plain": [
       "[0, 1, 2, 3, 4, 5, 6, 7, 8, 9]"
      ]
     },
     "execution_count": 18,
     "metadata": {},
     "output_type": "execute_result"
    }
   ],
   "source": [
    "list(range(0,10))"
   ]
  },
  {
   "cell_type": "code",
   "execution_count": 19,
   "id": "1e1ad044-5631-428f-aa52-3f115f31d312",
   "metadata": {},
   "outputs": [
    {
     "data": {
      "text/plain": [
       "list"
      ]
     },
     "execution_count": 19,
     "metadata": {},
     "output_type": "execute_result"
    }
   ],
   "source": [
    "list"
   ]
  },
  {
   "cell_type": "code",
   "execution_count": 50,
   "id": "696808f6-08b1-47b3-8e1c-481081e2fb86",
   "metadata": {},
   "outputs": [],
   "source": [
    "a=list(range(0,25))\n"
   ]
  },
  {
   "cell_type": "code",
   "execution_count": 51,
   "id": "3a66fd31-0540-4164-8b74-06580c245998",
   "metadata": {},
   "outputs": [
    {
     "data": {
      "text/plain": [
       "[0,\n",
       " 1,\n",
       " 2,\n",
       " 3,\n",
       " 4,\n",
       " 5,\n",
       " 6,\n",
       " 7,\n",
       " 8,\n",
       " 9,\n",
       " 10,\n",
       " 11,\n",
       " 12,\n",
       " 13,\n",
       " 14,\n",
       " 15,\n",
       " 16,\n",
       " 17,\n",
       " 18,\n",
       " 19,\n",
       " 20,\n",
       " 21,\n",
       " 22,\n",
       " 23,\n",
       " 24]"
      ]
     },
     "execution_count": 51,
     "metadata": {},
     "output_type": "execute_result"
    }
   ],
   "source": [
    "a"
   ]
  },
  {
   "cell_type": "code",
   "execution_count": 52,
   "id": "071069e2-7254-49ec-a5c9-78c7a9327491",
   "metadata": {},
   "outputs": [
    {
     "name": "stdout",
     "output_type": "stream",
     "text": [
      "0 is Divisible:3\n",
      "1  Divisible:3\n",
      "2  Divisible:3\n",
      "3 is Divisible:3\n",
      "4  Divisible:3\n",
      "5  Divisible:3\n",
      "6 is Divisible:3\n",
      "7  Divisible:3\n",
      "8  Divisible:3\n",
      "9 is Divisible:3\n",
      "10  Divisible:3\n",
      "11  Divisible:3\n",
      "12 is Divisible:3\n",
      "13  Divisible:3\n",
      "14  Divisible:3\n",
      "15 is Divisible:3\n",
      "16  Divisible:3\n",
      "17  Divisible:3\n",
      "18 is Divisible:3\n",
      "19  Divisible:3\n",
      "20  Divisible:3\n",
      "21 is Divisible:3\n",
      "22  Divisible:3\n",
      "23  Divisible:3\n",
      "24 is Divisible:3\n"
     ]
    }
   ],
   "source": [
    "for i in a:\n",
    "    if (i%3)==0:\n",
    "        print(format(i),\"is Divisible:3\")\n",
    "    else:\n",
    "        print(format(i),\" Divisible:3\",)\n",
    "    "
   ]
  },
  {
   "cell_type": "code",
   "execution_count": 53,
   "id": "5ba8bc97-eed8-4737-9562-0faf27270a37",
   "metadata": {},
   "outputs": [],
   "source": [
    "#Using a while loop, verify if the number A is purely divisible by number B and if so then how many\n",
    "#times it can be divisible."
   ]
  },
  {
   "cell_type": "code",
   "execution_count": 63,
   "id": "a14fcc84-d144-4d79-a33d-1f160937f87e",
   "metadata": {},
   "outputs": [
    {
     "data": {
      "text/plain": [
       "1"
      ]
     },
     "execution_count": 63,
     "metadata": {},
     "output_type": "execute_result"
    }
   ],
   "source": []
  },
  {
   "cell_type": "code",
   "execution_count": 71,
   "id": "85513ec1-0992-460e-aad4-c9b184395261",
   "metadata": {},
   "outputs": [
    {
     "ename": "IndentationError",
     "evalue": "unindent does not match any outer indentation level (<tokenize>, line 5)",
     "output_type": "error",
     "traceback": [
      "\u001b[0;36m  File \u001b[0;32m<tokenize>:5\u001b[0;36m\u001b[0m\n\u001b[0;31m    break:\u001b[0m\n\u001b[0m    ^\u001b[0m\n\u001b[0;31mIndentationError\u001b[0m\u001b[0;31m:\u001b[0m unindent does not match any outer indentation level\n"
     ]
    }
   ],
   "source": [
    "a=10\n",
    "b=2\n",
    "while a%b==0:\n",
    "      print(\"Number is Divisible\")\n",
    "    \n",
    "            "
   ]
  },
  {
   "cell_type": "code",
   "execution_count": 72,
   "id": "35f2bb8c-d011-4755-a93d-cc89c79dfee8",
   "metadata": {},
   "outputs": [
    {
     "name": "stdin",
     "output_type": "stream",
     "text": [
      "Enter number A:  10\n",
      "Enter number B:  2\n"
     ]
    },
    {
     "name": "stdout",
     "output_type": "stream",
     "text": [
      "10 is divisible by 2.\n",
      "It can be divided 5 times.\n"
     ]
    }
   ],
   "source": [
    "def check_divisibility_and_count(a, b):\n",
    "    count = 0\n",
    "\n",
    "    # Check if the division is possible (i.e., b is not zero)\n",
    "    if b == 0:\n",
    "        print(\"Error: Division by zero is not allowed.\")\n",
    "        return None\n",
    "\n",
    "    # Use a while loop to repeatedly divide a by b until a is smaller than b\n",
    "    while a >= b:\n",
    "        a -= b\n",
    "        count += 1\n",
    "\n",
    "    return count\n",
    "\n",
    "# Input numbers A and B\n",
    "number_a = int(input(\"Enter number A: \"))\n",
    "number_b = int(input(\"Enter number B: \"))\n",
    "\n",
    "result = check_divisibility_and_count(number_a, number_b)\n",
    "\n",
    "if result is not None:\n",
    "    print(f\"{number_a} is divisible by {number_b}.\")\n",
    "    print(f\"It can be divided {result} times.\")"
   ]
  },
  {
   "cell_type": "code",
   "execution_count": 73,
   "id": "f9e078ae-772f-4ffa-a42d-06a9f9a706bd",
   "metadata": {},
   "outputs": [
    {
     "name": "stdin",
     "output_type": "stream",
     "text": [
      "Enter number A:  69\n",
      "Enter number B:  3\n"
     ]
    },
    {
     "name": "stdout",
     "output_type": "stream",
     "text": [
      "69 is divisible by 3.\n",
      "It can be divided 23 times.\n"
     ]
    }
   ],
   "source": [
    "# Input numbers A and B\n",
    "number_a = int(input(\"Enter number A: \"))\n",
    "number_b = int(input(\"Enter number B: \"))\n",
    "\n",
    "count = 0\n",
    "\n",
    "# Check if the division is possible (i.e., b is not zero)\n",
    "if number_b == 0:\n",
    "    print(\"Error: Division by zero is not allowed.\")\n",
    "else:\n",
    "    # Use a while loop to repeatedly subtract b from a until a is smaller than b\n",
    "    while number_a >= number_b:\n",
    "        number_a -= number_b\n",
    "        count += 1\n",
    "\n",
    "    if count > 0:\n",
    "        print(f\"{number_a + count * number_b} is divisible by {number_b}.\")\n",
    "        print(f\"It can be divided {count} times.\")\n",
    "    else:\n",
    "        print(f\"{number_a} is not divisible by {number_b}.\")\n"
   ]
  },
  {
   "cell_type": "code",
   "execution_count": null,
   "id": "26456c8d-fa7d-40ca-a2eb-cd8d9cbd9409",
   "metadata": {},
   "outputs": [],
   "source": []
  }
 ],
 "metadata": {
  "kernelspec": {
   "display_name": "Python 3 (ipykernel)",
   "language": "python",
   "name": "python3"
  },
  "language_info": {
   "codemirror_mode": {
    "name": "ipython",
    "version": 3
   },
   "file_extension": ".py",
   "mimetype": "text/x-python",
   "name": "python",
   "nbconvert_exporter": "python",
   "pygments_lexer": "ipython3",
   "version": "3.10.8"
  }
 },
 "nbformat": 4,
 "nbformat_minor": 5
}
